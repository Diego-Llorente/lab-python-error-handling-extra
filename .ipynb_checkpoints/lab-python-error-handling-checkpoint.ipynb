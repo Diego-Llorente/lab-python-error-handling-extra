{
 "cells": [
  {
   "cell_type": "markdown",
   "id": "25d7736c-ba17-4aff-b6bb-66eba20fbf4e",
   "metadata": {},
   "source": [
    "# Lab | Error Handling"
   ]
  },
  {
   "cell_type": "markdown",
   "id": "6f8e446f-16b4-4e21-92e7-9d3d1eb551b6",
   "metadata": {},
   "source": [
    "Objective: Practice how to identify, handle and recover from potential errors in Python code using try-except blocks."
   ]
  },
  {
   "cell_type": "markdown",
   "id": "e253e768-aed8-4791-a800-87add1204afa",
   "metadata": {},
   "source": [
    "## Challenge \n",
    "\n",
    "Paste here your lab *functions* solutions. Apply error handling techniques to each function using try-except blocks. "
   ]
  },
  {
   "cell_type": "markdown",
   "id": "9180ff86-c3fe-4152-a609-081a287fa1af",
   "metadata": {},
   "source": [
    "The try-except block in Python is designed to handle exceptions and provide a fallback mechanism when code encounters errors. By enclosing the code that could potentially throw errors in a try block, followed by specific or general exception handling in the except block, we can gracefully recover from errors and continue program execution.\n",
    "\n",
    "However, there may be cases where an input may not produce an immediate error, but still needs to be addressed. In such situations, it can be useful to explicitly raise an error using the \"raise\" keyword, either to draw attention to the issue or handle it elsewhere in the program.\n",
    "\n",
    "Modify the code to handle possible errors in Python, it is recommended to use `try-except-else-finally` blocks, incorporate the `raise` keyword where necessary, and print meaningful error messages to alert users of any issues that may occur during program execution.\n",
    "\n"
   ]
  },
  {
   "cell_type": "code",
   "execution_count": 1,
   "id": "cc2c441d-9dcf-4817-b097-cf6cbe440846",
   "metadata": {},
   "outputs": [],
   "source": [
    "# your code goes here\n",
    "def initialize_inventory(products):\n",
    "    inventory = {}\n",
    "    for product in products:\n",
    "        valid_input = False\n",
    "        while not valid_input:\n",
    "            try:\n",
    "                quantity = int(input(f\"Please enter the available quantity of {product}: \"))\n",
    "                if quantity >= 0: \n",
    "                    inventory[product] = quantity\n",
    "                    valid_input = True\n",
    "                else:\n",
    "                    print(\"Quantity cannot be negative. Please enter a valid quantity.\")\n",
    "            except ValueError:\n",
    "                print(\"Invalid input. Please enter a valid quantity.\")\n",
    "            finally:\n",
    "                print(f\"Your current inventory is {inventory}\")\n",
    "        \n",
    "    return inventory\n"
   ]
  },
  {
   "cell_type": "code",
   "execution_count": 2,
   "id": "e19969ec",
   "metadata": {},
   "outputs": [
    {
     "name": "stdout",
     "output_type": "stream",
     "text": [
      "Please enter the available quantity of t-shirt: 10\n",
      "Your current inventory is {'t-shirt': 10}\n",
      "Please enter the available quantity of mug: -99\n",
      "Quantity cannot be negative. Please enter a valid quantity.\n",
      "Your current inventory is {'t-shirt': 10}\n",
      "Please enter the available quantity of mug: sdds\n",
      "Invalid input. Please enter a valid quantity.\n",
      "Your current inventory is {'t-shirt': 10}\n",
      "Please enter the available quantity of mug: 10\n",
      "Your current inventory is {'t-shirt': 10, 'mug': 10}\n",
      "Please enter the available quantity of hat: 10\n",
      "Your current inventory is {'t-shirt': 10, 'mug': 10, 'hat': 10}\n",
      "Please enter the available quantity of book: 10\n",
      "Your current inventory is {'t-shirt': 10, 'mug': 10, 'hat': 10, 'book': 10}\n",
      "Please enter the available quantity of keychain: 10\n",
      "Your current inventory is {'t-shirt': 10, 'mug': 10, 'hat': 10, 'book': 10, 'keychain': 10}\n"
     ]
    }
   ],
   "source": [
    "initial_inventory = initialize_inventory(products = [\"t-shirt\", \"mug\", \"hat\", \"book\", \"keychain\"])"
   ]
  },
  {
   "cell_type": "code",
   "execution_count": 3,
   "id": "231da738",
   "metadata": {},
   "outputs": [
    {
     "data": {
      "text/plain": [
       "{'t-shirt': 10, 'mug': 10, 'hat': 10, 'book': 10, 'keychain': 10}"
      ]
     },
     "execution_count": 3,
     "metadata": {},
     "output_type": "execute_result"
    }
   ],
   "source": [
    "initial_inventory"
   ]
  },
  {
   "cell_type": "code",
   "execution_count": 8,
   "id": "780f8158",
   "metadata": {},
   "outputs": [],
   "source": [
    "\n",
    "def get_customer_orders(inventory):\n",
    "\n",
    "    valid_order_num = False\n",
    "    while not valid_order_num:\n",
    "        try:\n",
    "            order_num = int(input(\"Please enter the number of orders you want to do: \"))\n",
    "            if order_num > 0:\n",
    "                valid_order_num = True\n",
    "            else:\n",
    "                print(\"Number of orders must be positive.\")        \n",
    "        except:\n",
    "            print(\"Error. Please enter a valid input\")\n",
    "        \n",
    "    \n",
    "    #valid_order_name = False\n",
    "    customer_orders = []\n",
    "    \n",
    "    for new_order in range(order_num):\n",
    "        valid_order_name = False\n",
    "        while not valid_order_name:\n",
    "            try:\n",
    "                order_req = input(\"Please enter the product you want to order: \")\n",
    "                if order_req in inventory:\n",
    "                    if order_req in customer_orders:\n",
    "                        print(\"You have already ordered that item.\")\n",
    "                    else:\n",
    "                        customer_orders.append(order_req)\n",
    "                        valid_order_name = True\n",
    "                else:\n",
    "                    print(\"Item not in inventory.\")\n",
    "            except:\n",
    "                print(\"Error. Please re-enter the number of orders: \")     \n",
    "            finally:\n",
    "                print(f\"The customer's current order is: {customer_orders}\")\n",
    "        \n",
    "    return customer_orders\n",
    "\n",
    "\n",
    "\n"
   ]
  },
  {
   "cell_type": "code",
   "execution_count": 9,
   "id": "40b11635",
   "metadata": {},
   "outputs": [
    {
     "name": "stdout",
     "output_type": "stream",
     "text": [
      "Please enter the number of orders you want to do: -9\n",
      "Number of orders must be positive.\n",
      "Please enter the number of orders you want to do: 3\n",
      "Please enter the product you want to order: sg\n",
      "Item not in inventory.\n",
      "The customer's current order is: []\n",
      "Please enter the product you want to order: mug\n",
      "The customer's current order is: ['mug']\n",
      "Please enter the product you want to order: hat\n",
      "The customer's current order is: ['mug', 'hat']\n",
      "Please enter the product you want to order: t-shirt\n",
      "The customer's current order is: ['mug', 'hat', 't-shirt']\n"
     ]
    }
   ],
   "source": [
    "items_ordered = get_customer_orders(initial_inventory)"
   ]
  },
  {
   "cell_type": "code",
   "execution_count": 10,
   "id": "e4cae1cb",
   "metadata": {},
   "outputs": [
    {
     "data": {
      "text/plain": [
       "['mug', 'hat', 't-shirt']"
      ]
     },
     "execution_count": 10,
     "metadata": {},
     "output_type": "execute_result"
    }
   ],
   "source": [
    "items_ordered"
   ]
  },
  {
   "cell_type": "code",
   "execution_count": 12,
   "id": "b968f248",
   "metadata": {},
   "outputs": [],
   "source": [
    "def update_inventory(customer_orders, inventory):\n",
    "\n",
    "    inventory = {product: inventory[product] - 1 if product in customer_orders else inventory[product] for product in inventory}\n",
    "    clear_inventory = {product: quantity for product, quantity in inventory.items() if quantity > 0}    \n",
    "    \n",
    "   \n",
    "    return clear_inventory"
   ]
  },
  {
   "cell_type": "code",
   "execution_count": 13,
   "id": "5b2949cf",
   "metadata": {},
   "outputs": [],
   "source": [
    "updated_inventory = update_inventory(items_ordered, initial_inventory)"
   ]
  },
  {
   "cell_type": "code",
   "execution_count": 14,
   "id": "a3e4b953",
   "metadata": {
    "scrolled": true
   },
   "outputs": [
    {
     "data": {
      "text/plain": [
       "{'t-shirt': 9, 'mug': 9, 'hat': 9, 'book': 10, 'keychain': 10}"
      ]
     },
     "execution_count": 14,
     "metadata": {},
     "output_type": "execute_result"
    }
   ],
   "source": [
    "updated_inventory"
   ]
  },
  {
   "cell_type": "code",
   "execution_count": 16,
   "id": "9b599fc8",
   "metadata": {},
   "outputs": [],
   "source": [
    "def calculate_order_statistics(customer_orders, products):\n",
    "    total_products_ordered = len(customer_orders)\n",
    "    percentage_ordered = (total_products_ordered/len(products))*100\n",
    "    order_status = (total_products_ordered, percentage_ordered)\n",
    "    \n",
    "    return [total_products_ordered, percentage_ordered] "
   ]
  },
  {
   "cell_type": "code",
   "execution_count": 17,
   "id": "eeae408b",
   "metadata": {},
   "outputs": [
    {
     "data": {
      "text/plain": [
       "[3, 60.0]"
      ]
     },
     "execution_count": 17,
     "metadata": {},
     "output_type": "execute_result"
    }
   ],
   "source": [
    "calculate_order_statistics(items_ordered, initial_inventory.keys())"
   ]
  },
  {
   "cell_type": "code",
   "execution_count": 18,
   "id": "8f81854f",
   "metadata": {},
   "outputs": [],
   "source": [
    "statistics = calculate_order_statistics(items_ordered, initial_inventory.keys())"
   ]
  },
  {
   "cell_type": "code",
   "execution_count": 20,
   "id": "5e487c72",
   "metadata": {},
   "outputs": [],
   "source": [
    "def print_order_statistics(order_statistics):\n",
    "    count = 1\n",
    "    for stat in order_statistics:\n",
    "        if count == 1:\n",
    "            print(f\"The total number of products ordered is: {stat}.\")\n",
    "            count += 1\n",
    "        else:\n",
    "            print(f\"The percentage or ordered products is: {stat}%.\")"
   ]
  },
  {
   "cell_type": "code",
   "execution_count": 21,
   "id": "d13d9eb1",
   "metadata": {},
   "outputs": [
    {
     "name": "stdout",
     "output_type": "stream",
     "text": [
      "The total number of products ordered is: 3.\n",
      "The percentage or ordered products is: 60.0%.\n"
     ]
    }
   ],
   "source": [
    "print_order_statistics(statistics)"
   ]
  },
  {
   "cell_type": "code",
   "execution_count": 22,
   "id": "9165f915",
   "metadata": {},
   "outputs": [],
   "source": [
    "def print_updated_inventory(inventory):\n",
    "    \n",
    "    printed_inventory = {f\"The product {product} has a stock of: {quantity}\" for product, quantity in inventory.items()}\n",
    "    \n",
    "    return printed_inventory"
   ]
  },
  {
   "cell_type": "code",
   "execution_count": 23,
   "id": "4cc80935",
   "metadata": {},
   "outputs": [
    {
     "data": {
      "text/plain": [
       "{'The product book has a stock of: 10',\n",
       " 'The product hat has a stock of: 9',\n",
       " 'The product keychain has a stock of: 10',\n",
       " 'The product mug has a stock of: 9',\n",
       " 'The product t-shirt has a stock of: 9'}"
      ]
     },
     "execution_count": 23,
     "metadata": {},
     "output_type": "execute_result"
    }
   ],
   "source": [
    "print_updated_inventory(updated_inventory)"
   ]
  },
  {
   "cell_type": "code",
   "execution_count": 32,
   "id": "43decee3",
   "metadata": {},
   "outputs": [],
   "source": [
    "\n",
    "def price_order(customer_order):\n",
    "    prices = {}\n",
    "    for order in customer_order:\n",
    "        valid_input = False\n",
    "        while not valid_input:\n",
    "            try:\n",
    "                item_price = int(input(f\"Enter the price of the {order}: \"))\n",
    "                if item_price >= 0:\n",
    "                    prices[order] = item_price\n",
    "                    valid_input = True\n",
    "                else:\n",
    "                    print(\"The price must be a positive number.\")\n",
    "            except ValueError:\n",
    "                print(\"The input must be a number.\")\n",
    "            finally:\n",
    "                print(f\"The current total price of the order is: {float(sum(prices.values()))} \")\n",
    "    total_prices = float(sum(prices.values()))\n",
    "    \n",
    "    return total_prices"
   ]
  },
  {
   "cell_type": "code",
   "execution_count": 33,
   "id": "b13f904c",
   "metadata": {},
   "outputs": [
    {
     "name": "stdout",
     "output_type": "stream",
     "text": [
      "Enter the price of the mug: 5\n",
      "The current total price of the order is: 5.0 \n",
      "Enter the price of the hat: 4\n",
      "The current total price of the order is: 9.0 \n",
      "Enter the price of the t-shirt: 10\n",
      "The current total price of the order is: 19.0 \n"
     ]
    }
   ],
   "source": [
    "total_order_price = price_order(items_ordered)"
   ]
  },
  {
   "cell_type": "code",
   "execution_count": 34,
   "id": "30d195c6",
   "metadata": {},
   "outputs": [
    {
     "name": "stdout",
     "output_type": "stream",
     "text": [
      "19.0\n"
     ]
    }
   ],
   "source": [
    "print(total_order_price)"
   ]
  }
 ],
 "metadata": {
  "kernelspec": {
   "display_name": "Python 3 (ipykernel)",
   "language": "python",
   "name": "python3"
  },
  "language_info": {
   "codemirror_mode": {
    "name": "ipython",
    "version": 3
   },
   "file_extension": ".py",
   "mimetype": "text/x-python",
   "name": "python",
   "nbconvert_exporter": "python",
   "pygments_lexer": "ipython3",
   "version": "3.11.7"
  }
 },
 "nbformat": 4,
 "nbformat_minor": 5
}
